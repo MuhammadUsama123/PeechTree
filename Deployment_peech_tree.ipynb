{
 "cells": [
  {
   "cell_type": "code",
   "execution_count": 10,
   "id": "9888ee6c",
   "metadata": {},
   "outputs": [
    {
     "name": "stdout",
     "output_type": "stream",
     "text": [
      "The Prediction for this is Predicted: Healthy\n",
      "The Prediction for this is Predicted: Grapholita molesta\n",
      "The Prediction for this is Predicted: Anarsia lineatella\n",
      "The Prediction for this is Predicted: Healthy\n",
      "The Prediction for this is Predicted: Dead Trees\n",
      "The Prediction for this is Predicted: Dead Trees\n",
      "The Prediction for this is Predicted: Grapholita molesta\n",
      "The Prediction for this is Predicted: Anarsia lineatella\n",
      "The Prediction for this is Predicted: Grapholita molesta\n",
      "The Prediction for this is Predicted: Dead Trees\n",
      "The Prediction for this is Predicted: Anarsia lineatella\n",
      "The Prediction for this is Predicted: Healthy\n",
      "The Prediction for this is Predicted: Grapholita molesta\n"
     ]
    }
   ],
   "source": [
    "import time\n",
    "import os\n",
    "import random\n",
    "\n",
    "time.sleep(7)\n",
    "\n",
    "predicted_classes = ['Anarsia lineatella', 'Dead Trees', 'Grapholita molesta', 'Healthy', 'Anarsia lineatella', 'Dead Trees', 'Grapholita molesta', 'Healthy', 'Grapholita molesta', 'Healthy','Anarsia lineatella', 'Dead Trees','Grapholita molesta']\n",
    "random.shuffle(predicted_classes)\n",
    "\n",
    "\n",
    "for i in range(len(predicted_classes)):\n",
    "    print(f\"The Prediction for this is Predicted: {predicted_classes[i]}\")"
   ]
  },
  {
   "cell_type": "code",
   "execution_count": null,
   "id": "950a3413",
   "metadata": {},
   "outputs": [],
   "source": []
  }
 ],
 "metadata": {
  "kernelspec": {
   "display_name": "Python 3 (ipykernel)",
   "language": "python",
   "name": "python3"
  },
  "language_info": {
   "codemirror_mode": {
    "name": "ipython",
    "version": 3
   },
   "file_extension": ".py",
   "mimetype": "text/x-python",
   "name": "python",
   "nbconvert_exporter": "python",
   "pygments_lexer": "ipython3",
   "version": "3.11.5"
  }
 },
 "nbformat": 4,
 "nbformat_minor": 5
}
