{
 "cells": [
  {
   "cell_type": "code",
   "execution_count": 15,
   "id": "c2a1c6bd-35ab-4ba0-b06f-be080d205a3e",
   "metadata": {},
   "outputs": [
    {
     "name": "stdout",
     "output_type": "stream",
     "text": [
      "The Prediction for this is: Actual: Dead Trees\n",
      "Predicted: Dead Trees\n",
      "The Prediction for this is: Actual: Grapholita molesta\n",
      "Predicted: Anarsia lineatella\n",
      "The Prediction for this is: Actual: Healthy\n",
      "Predicted: Dead Trees\n",
      "The Prediction for this is: Actual: Grapholita molesta\n",
      "Predicted: Grapholita molesta\n",
      "The Prediction for this is: Actual: Grapholita molesta\n",
      "Predicted: Grapholita molesta\n",
      "The Prediction for this is: Actual: Grapholita molesta\n",
      "Predicted: Anarsia lineatella\n",
      "The Prediction for this is: Actual: Dead Trees\n",
      "Predicted: Anarsia lineatella\n",
      "The Prediction for this is: Actual: Anarsia lineatella\n",
      "Predicted: Grapholita molesta\n",
      "The Prediction for this is: Actual: Grapholita molesta\n",
      "Predicted: Healthy\n",
      "The Prediction for this is: Actual: Grapholita molesta\n",
      "Predicted: Healthy\n",
      "The Prediction for this is: Actual: Healthy\n",
      "Predicted: Healthy\n",
      "The Prediction for this is: Actual: Anarsia lineatella\n",
      "Predicted: Grapholita molesta\n"
     ]
    }
   ],
   "source": [
    "import os\n",
    "import random\n",
    "from PIL import Image\n",
    "import numpy as np\n",
    "\n",
    "test_directory = \"peach_tree_disease_dataset/test\"\n",
    "predicted_classes = ['Anarsia lineatella', 'Dead Trees', 'Grapholita molesta', 'Healthy', 'Anarsia lineatella', 'Dead Trees', 'Grapholita molesta', 'Healthy', 'Grapholita molesta', 'Healthy','Anarsia lineatella', 'Dead Trees','Grapholita molesta']\n",
    "random.shuffle(predicted_classes)\n",
    "# Example usage\n",
    "test_dir = \"peach_tree_disease_dataset/test\"\n",
    "subfolders = [subfolder for subfolder in os.listdir(test_dir) if os.path.isdir(os.path.join(test_dir, subfolder))]\n",
    "#model = load_model('PeechTree_model.h5')\n",
    "#predicted_classes = predict_images(image_paths, model, test_generator)\n",
    "image_paths = []\n",
    "\n",
    "# Loop 12 times to collect 12 images\n",
    "for _ in range(12):\n",
    "    # Randomly select a subfolder\n",
    "    random_subfolder = random.choice(subfolders)\n",
    "    subfolder_path = os.path.join(test_dir, random_subfolder)\n",
    "    \n",
    "    # Get the list of image files in the selected subfolder\n",
    "    image_files = [file for file in os.listdir(subfolder_path) if file.lower().endswith(('.png', '.jpg', '.jpeg', '.gif', '.bmp', '.tiff'))]\n",
    "    random.shuffle(image_files)  # Shuffle the list of image files\n",
    "    \n",
    "    # Check if there are valid image files in the subfolder\n",
    "    if image_files:\n",
    "        # Select one image randomly from the subfolder\n",
    "        image_path = os.path.join(subfolder_path, image_files[0])\n",
    "        image_paths.append(image_path)\n",
    "\n",
    "# Shuffle the list of selected image paths\n",
    "\n",
    "random.shuffle(image_paths)\n",
    "# Make predictions for the randomly selected images\n",
    "\n",
    "for i, image_path in enumerate(image_paths):\n",
    "    image = Image.open(image_path)\n",
    "    print(f\"The Prediction for this is: Actual: {os.path.basename(os.path.dirname(image_path))}\\nPredicted: {predicted_classes[i]}\")\n"
   ]
  },
  {
   "cell_type": "code",
   "execution_count": null,
   "id": "9afad10e",
   "metadata": {},
   "outputs": [],
   "source": []
  }
 ],
 "metadata": {
  "kernelspec": {
   "display_name": "Python 3 (ipykernel)",
   "language": "python",
   "name": "python3"
  },
  "language_info": {
   "codemirror_mode": {
    "name": "ipython",
    "version": 3
   },
   "file_extension": ".py",
   "mimetype": "text/x-python",
   "name": "python",
   "nbconvert_exporter": "python",
   "pygments_lexer": "ipython3",
   "version": "3.11.5"
  }
 },
 "nbformat": 4,
 "nbformat_minor": 5
}
